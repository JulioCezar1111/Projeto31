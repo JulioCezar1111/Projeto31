{
  "nbformat": 4,
  "nbformat_minor": 0,
  "metadata": {
    "colab": {
      "name": "ML-Polinomio.ipynb",
      "provenance": [],
      "collapsed_sections": [
        "iVx5bFlGrQKe"
      ],
      "authorship_tag": "ABX9TyPCOreBMFwt3Af8ZfRJjKrd",
      "include_colab_link": true
    },
    "kernelspec": {
      "name": "python3",
      "display_name": "Python 3"
    },
    "language_info": {
      "name": "python"
    }
  },
  "cells": [
    {
      "cell_type": "markdown",
      "metadata": {
        "id": "view-in-github",
        "colab_type": "text"
      },
      "source": [
        "<a href=\"https://colab.research.google.com/github/JulioCezar1111/Projeto31/blob/main/ML_Polinomio.ipynb\" target=\"_parent\"><img src=\"https://colab.research.google.com/assets/colab-badge.svg\" alt=\"Open In Colab\"/></a>"
      ]
    },
    {
      "cell_type": "markdown",
      "source": [
        "# **Biblioteca**\n",
        "\n",
        "---\n",
        "\n"
      ],
      "metadata": {
        "id": "iVx5bFlGrQKe"
      }
    },
    {
      "cell_type": "code",
      "source": [
        "!wget https://raw.githubusercontent.com/lucaslattari/MachineLearningSeries/master/Ep%207/salary.csv\n"
      ],
      "metadata": {
        "colab": {
          "base_uri": "https://localhost:8080/"
        },
        "id": "HPeP3YovtBsd",
        "outputId": "e3c5d7ca-603d-4e4d-a282-4ea2dd35f1ed"
      },
      "execution_count": 1,
      "outputs": [
        {
          "output_type": "stream",
          "name": "stdout",
          "text": [
            "--2022-06-22 23:41:18--  https://raw.githubusercontent.com/lucaslattari/MachineLearningSeries/master/Ep%207/salary.csv\n",
            "Resolving raw.githubusercontent.com (raw.githubusercontent.com)... 185.199.111.133, 185.199.108.133, 185.199.109.133, ...\n",
            "Connecting to raw.githubusercontent.com (raw.githubusercontent.com)|185.199.111.133|:443... connected.\n",
            "HTTP request sent, awaiting response... 200 OK\n",
            "Length: 333 [text/plain]\n",
            "Saving to: ‘salary.csv’\n",
            "\n",
            "\rsalary.csv            0%[                    ]       0  --.-KB/s               \rsalary.csv          100%[===================>]     333  --.-KB/s    in 0s      \n",
            "\n",
            "2022-06-22 23:41:18 (10.4 MB/s) - ‘salary.csv’ saved [333/333]\n",
            "\n"
          ]
        }
      ]
    },
    {
      "cell_type": "code",
      "source": [
        "#https://towardsdatascience.com/machine-learning-polynomial-regression-with-python-5328e4e8a386\n",
        "#https://medium.com/coinmonks/polynomial-regression-11bec9262d64"
      ],
      "metadata": {
        "id": "u9AcUKz402YA"
      },
      "execution_count": null,
      "outputs": []
    },
    {
      "cell_type": "code",
      "execution_count": 35,
      "metadata": {
        "id": "VDVtqqB3osf1"
      },
      "outputs": [],
      "source": [
        "import numpy as np\n",
        "import pandas as pd\n",
        "import time\n",
        "from functools import wraps\n",
        "from sklearn import linear_model\n",
        "import matplotlib.pyplot as plt\n",
        "from scipy import stats\n",
        "from sklearn.metrics import r2_score"
      ]
    },
    {
      "cell_type": "markdown",
      "source": [
        "# **Visualizar os dados**\n",
        "\n",
        "---\n",
        "\n"
      ],
      "metadata": {
        "id": "LBOBzw9kC8_U"
      }
    },
    {
      "cell_type": "code",
      "source": [
        "df = pd.read_csv('/content/salary.csv', delimiter = ';')\n",
        "X = df['YearsExperience']\n",
        "y = df['Salary']"
      ],
      "metadata": {
        "id": "dCU2NA0465Ch"
      },
      "execution_count": 25,
      "outputs": []
    },
    {
      "cell_type": "code",
      "source": [
        "plt.scatter(X, y, color = 'red')\n",
        "plt.show()  "
      ],
      "metadata": {
        "colab": {
          "base_uri": "https://localhost:8080/",
          "height": 265
        },
        "id": "kazq4bem8BaC",
        "outputId": "e128d52d-7601-4522-8ec0-25e136854284"
      },
      "execution_count": 27,
      "outputs": [
        {
          "output_type": "display_data",
          "data": {
            "text/plain": [
              "<Figure size 432x288 with 1 Axes>"
            ],
            "image/png": "[encoded data removed]"
          },
          "metadata": {
            "needs_background": "light"
          }
        }
      ]
    },
    {
      "cell_type": "markdown",
      "source": [
        "# **Função linear**\n",
        "\n",
        "---\n",
        "\n"
      ],
      "metadata": {
        "id": "hTyJeNuFDHVZ"
      }
    },
    {
      "cell_type": "code",
      "source": [
        "slope, intercept, r, p, std_err = stats.linregress(X, y)\n",
        "\n",
        "def myfunc(X):\n",
        "  return slope * X + intercept\n",
        "\n",
        "mymodel = list(map(myfunc, X))\n",
        "\n",
        "plt.scatter(X, y, color = 'red')\n",
        "plt.plot(X, mymodel)\n",
        "plt.show()"
      ],
      "metadata": {
        "colab": {
          "base_uri": "https://localhost:8080/",
          "height": 265
        },
        "id": "kn920xpTC1xI",
        "outputId": "0e069409-cd0c-4eef-a0d1-9f33d251f6bb"
      },
      "execution_count": 41,
      "outputs": [
        {
          "output_type": "display_data",
          "data": {
            "text/plain": [
              "<Figure size 432x288 with 1 Axes>"
            ],
            "image/png": "[encoded data removed]"
          },
          "metadata": {
            "needs_background": "light"
          }
        }
      ]
    },
    {
      "cell_type": "code",
      "source": [
        "print(r)"
      ],
      "metadata": {
        "colab": {
          "base_uri": "https://localhost:8080/"
        },
        "id": "npDA9YrXFktB",
        "outputId": "d1b8a759-1b57-4f67-a583-ac021426a6cc"
      },
      "execution_count": 43,
      "outputs": [
        {
          "output_type": "stream",
          "name": "stdout",
          "text": [
            "0.9782416184887599\n"
          ]
        }
      ]
    },
    {
      "cell_type": "markdown",
      "source": [
        "# **Função polinomial**\n",
        "\n",
        "---\n",
        "\n"
      ],
      "metadata": {
        "id": "hhAcWpc7Di4X"
      }
    },
    {
      "cell_type": "code",
      "source": [
        "mymodel = np.poly1d(np.polyfit(X, y, 3))\n",
        "\n",
        "myline = np.linspace(0, 12, 130000)\n",
        "\n",
        "\n",
        "\n",
        "plt.scatter(X, y, color = 'red')\n",
        "plt.plot(myline, mymodel(myline))\n",
        "plt.show()"
      ],
      "metadata": {
        "colab": {
          "base_uri": "https://localhost:8080/",
          "height": 265
        },
        "id": "tUbvwW3JDpEA",
        "outputId": "9b042d46-0186-406a-8118-000fa01f4f9d"
      },
      "execution_count": 45,
      "outputs": [
        {
          "output_type": "display_data",
          "data": {
            "text/plain": [
              "<Figure size 432x288 with 1 Axes>"
            ],
            "image/png": "[encoded data removed]"
          },
          "metadata": {
            "needs_background": "light"
          }
        }
      ]
    },
    {
      "cell_type": "code",
      "source": [
        "print(r2_score(y, mymodel(X)))"
      ],
      "metadata": {
        "colab": {
          "base_uri": "https://localhost:8080/"
        },
        "id": "SuRg9dD-FUOa",
        "outputId": "e211c3cb-d64e-45ad-f7a4-e4f7797e46d6"
      },
      "execution_count": 46,
      "outputs": [
        {
          "output_type": "stream",
          "name": "stdout",
          "text": [
            "0.9635969766249464\n"
          ]
        }
      ]
    }
  ]
}